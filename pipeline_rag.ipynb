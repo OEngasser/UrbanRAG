{
 "cells": [
  {
   "cell_type": "markdown",
   "metadata": {},
   "source": [
    "# Implémentation pipeline RAG"
   ]
  },
  {
   "cell_type": "markdown",
   "metadata": {},
   "source": [
    "1. Etape 1. Initialiser le modèle LLM\n",
    "2. Etape 2. Créer le prompt template\n",
    "3. Etape 3. Ingestion PDF\n",
    "4. Etape 4. Chunks\n",
    "5. Etape 5. Embedding, vector store et retriever\n",
    "6. Etape 6. Chain\n",
    "7. Etape 7. Query"
   ]
  },
  {
   "cell_type": "markdown",
   "metadata": {},
   "source": [
    "Le choix des classes et méthodes a été réalisé à l'issue d'une réflexion autour de notre besoin métier et à l'issue d'une phase de pré-test. Nous avons choisi les modules nous paraissant les plus pertinents quant au ratio coût-pertinence."
   ]
  },
  {
   "cell_type": "markdown",
   "metadata": {},
   "source": [
    "# 1. Etape 1. Extraction du texte"
   ]
  },
  {
   "cell_type": "markdown",
   "metadata": {},
   "source": [
    "La classe PyMuPDFLoader en association avec la méthode load() charge le fichier dont elle extrait le texte brut qu'elle stocke dans une variable objet constituée d'une collection de documents (à raison d'un document par page, avec les métadonnées). Parmi les nombreux extracteurs de textes assumés par Langchain, PyMuPDFLoader est de loin le plus rapide."
   ]
  },
  {
   "cell_type": "code",
   "execution_count": 1,
   "metadata": {},
   "outputs": [
    {
     "name": "stdout",
     "output_type": "stream",
     "text": [
      "172\n",
      "<class 'list'>\n",
      "<class 'langchain_core.documents.base.Document'>\n"
     ]
    }
   ],
   "source": [
    "from langchain_community.document_loaders import PyMuPDFLoader\n",
    "\n",
    "pdf_path = \"plu_0.pdf\"\n",
    "docs = PyMuPDFLoader(pdf_path).load()\n",
    "\n",
    "print(len(docs))\n",
    "print(type(docs))\n",
    "print(type(docs[0]))"
   ]
  },
  {
   "cell_type": "markdown",
   "metadata": {},
   "source": [
    "La longueur de la variable docs est bien 172, soit le nombre de pages de notre PDF. C'est une liste d'objets langchain."
   ]
  },
  {
   "cell_type": "markdown",
   "metadata": {},
   "source": [
    "# 2. Etape 2. Chunks"
   ]
  },
  {
   "cell_type": "code",
   "execution_count": 2,
   "metadata": {},
   "outputs": [
    {
     "name": "stdout",
     "output_type": "stream",
     "text": [
      "594\n",
      "<class 'list'>\n",
      "<class 'langchain_core.documents.base.Document'>\n"
     ]
    }
   ],
   "source": [
    "from langchain.text_splitter import RecursiveCharacterTextSplitter\n",
    "from langchain.vectorstores.utils import filter_complex_metadata\n",
    "\n",
    "# Création des chunks\n",
    "text_splitter = RecursiveCharacterTextSplitter(chunk_size=1024, chunk_overlap=20)\n",
    "chunks = text_splitter.split_documents(docs)\n",
    "\n",
    "# Ajout d'un filtre pour nettoyer les métadonnées - réduit la complexité\n",
    "chunks = filter_complex_metadata(chunks)\n",
    "\n",
    "print(len(chunks))\n",
    "print(type(chunks))\n",
    "print(type(chunks[0]))"
   ]
  },
  {
   "cell_type": "markdown",
   "metadata": {},
   "source": [
    "Nous avons réduit la taille de notre objet à 594 chunks. La variable est également une liste d'objets langchain."
   ]
  },
  {
   "cell_type": "markdown",
   "metadata": {},
   "source": [
    "# 3. Etape 3. Embedding, vector store et retriever"
   ]
  },
  {
   "cell_type": "markdown",
   "metadata": {},
   "source": [
    "Il s'agit à présent de créer la base de données vectorielle et le récupérateur qui va retrouver les chunks les plus pertinents. Pour cela, nous utiliserons le modèle pré-entraîné FAISS (implémenté par Meta), qui va stocker les vecteurs et les indexer. Nous paramétrerons ensuite l'objet issu de ce processus à l'aide de la méthode as_retriever() pour que celui-ci effectue un calcul de similarité sémantique avec la requête (par défaut : similarité cosinus), en fonction des k-voisins que nous lui indiquerons et ce à partir d'un seuil d'acceptabilité (\"score_threshold\"). Pour cela, nous utiliserons la méthode as_retriever(). Le nombre de k-voisins à sélectionner est également déterminant, il s'agira de trouver le k qui dans notre cas d'usage augmente les chances de contenir le bon document, tout en réduisant les risques de noyer l'information dans des documents non pertinents. Nous choisissons dans notre implémentation de renvoyer un seul document, en misant sur le fait que le retriever choisira d'emblée le bon. Nous ferons varier ces éléments dans la partie expérimentation. Nous choisissons la méthode de recherche par calcul du score de similarité cosinus idéale dans notre cas car nous recherchons des résultats très pertinents par rapport à notre requête (nous ne demandons surtout pas de la variabilité comme cela pourrait être calculé à partir de l'approche \"mmr\" ou Maximal Marginal Relevance)."
   ]
  },
  {
   "cell_type": "code",
   "execution_count": 3,
   "metadata": {},
   "outputs": [
    {
     "data": {
      "application/vnd.jupyter.widget-view+json": {
       "model_id": "dd40eb65dc6f4eb0ab8fc815d00b71bb",
       "version_major": 2,
       "version_minor": 0
      },
      "text/plain": [
       "Fetching 5 files:   0%|          | 0/5 [00:00<?, ?it/s]"
      ]
     },
     "metadata": {},
     "output_type": "display_data"
    }
   ],
   "source": [
    "from langchain_community.embeddings import FastEmbedEmbeddings\n",
    "from langchain_community.vectorstores import FAISS\n",
    "\n",
    "embeddings = FastEmbedEmbeddings() # par défaut, model_name de la classe: \"BAAI/bge-small-en-v1.5\"\n",
    "\n",
    "vector_store = FAISS.from_documents(documents=chunks, embedding=embeddings)\n",
    "\n",
    "retriever = vector_store.as_retriever(\n",
    "    search_type=\"similarity_score_threshold\",\n",
    "    search_kwargs={\"k\": 1, \"score_threshold\": 0.7,},\n",
    ")"
   ]
  },
  {
   "cell_type": "markdown",
   "metadata": {},
   "source": [
    "Nous pouvons à présent observer le fonctionnement du retriever, grâce à la méthode invoke() qui déclenche le processus de récupération, si on lui donne directement la requête comme une chaîne de caractères."
   ]
  },
  {
   "cell_type": "code",
   "execution_count": 4,
   "metadata": {},
   "outputs": [
    {
     "data": {
      "text/plain": [
       "[Document(metadata={'source': 'plu_0.pdf', 'file_path': 'plu_0.pdf', 'page': 8, 'total_pages': 172, 'format': 'PDF 1.4', 'title': 'GIG_PLU_Modif1_APPRO_4a_Reglt_20210628', 'author': 'Eloïse DE CARVALHO', 'subject': '', 'keywords': '', 'creator': 'Word', 'producer': 'Mac OS X 10.12.6 Quartz PDFContext', 'creationDate': \"D:20210628092938Z00'00'\", 'modDate': \"D:20210628092938Z00'00'\", 'trapped': ''}, page_content='la construction ou de l’installation, cheminées, antennes et autres ouvrages techniques exclus. \\n2) Hauteur maximum au faîtage \\nToute construction ou installation ne peut excéder 12,50 mètres de «hauteur  maximum». \\nEn cas d’extension ou de rénovation de bâtiments existant ayant une hauteur supérieure au maximum \\nindiqué ci dessus, la hauteur pourra atteindre celle de la construction existante. \\n3) Hauteur relative \\nPar rapport à la voie, la hauteur de toute constructions doit être telle que la différence d’altitude entre \\ntout point du bâtiment et tout point de l’alignement opposé n’excède pas le double de la distance comptée \\nhorizontalement entre ces deux points, sans que cette hauteur ne puisse être supérieure à la hauteur \\nmaximale autorisée. Le schéma ci-dessous explicite cette règle : \\n \\n \\n \\n> Article 11 :  Aspect extérieur \\nLes constructions doivent présenter un aspect compatible avec le caractère ou l’intérêt des lieux avoisi-')]"
      ]
     },
     "execution_count": 4,
     "metadata": {},
     "output_type": "execute_result"
    }
   ],
   "source": [
    "retrieved_chunks = retriever.invoke(\"Quelle est la hauteur maximum des constructions dans la zone U1 ?\")\n",
    "retrieved_chunks"
   ]
  },
  {
   "cell_type": "markdown",
   "metadata": {},
   "source": [
    "Nous observons que le chunk retrouvé correspond bien à celui qui contient l'information désirée, à savoir 12.50 mètres."
   ]
  },
  {
   "cell_type": "markdown",
   "metadata": {},
   "source": [
    "# 4. Etape 4. Initialisation du LLM"
   ]
  },
  {
   "cell_type": "markdown",
   "metadata": {},
   "source": [
    "Nous utilisons un LLM fourni par la plateforme Ollama qui permet de charger divers modèles de langage dans un environnement local, que Langchain prend ensuite en charge. Ici nous sélectionnons Llama2, mais nous testerons différents modèles dans notre partie expérimentation. Il est important de présenter les paramètres qui vont contrôler le comportement du modèle.\n",
    "- temperature : si elle est proche de 0, le modèle reste déterministe, produisant toujours les réponses les plus probables, admettant peu de diversité ou de créativité. En revanche, si elle est plus élevée (1, 2 ou 3), la température rend le modèle plus créatif, au détriment parfois de la cohérence. Dans notre cas, nous avons impérativement besoin de réponses précises, sans hallucinations, et reproductibles. Nous choisissons donc d'emblée une température de 0, et nous ne ferons plus varier ce paramètre ensuite.\n",
    "- top_k : détermine combien d'options (k) parmi les plus probables le LLM choisira lors de la génération de chaque token. Ici aussi nous choississons une valeur faible car nous voulons des chiffres et de la précision.\n",
    "- top_p : sélectionne les tokens suivants selon une distribution de probabilité. Nous utilisons une valeur de 1 (soit 100%) pour prendre en compte toutes les possibilités de réponses au moment de la génération. Associé à la température de 0 et au top_k de 1, ce paramètre nous semble favorable pour maximiser les réponses précises et pertinentes."
   ]
  },
  {
   "cell_type": "code",
   "execution_count": 5,
   "metadata": {},
   "outputs": [],
   "source": [
    "from langchain_community.chat_models import ChatOllama\n",
    "\n",
    "model = ChatOllama(model=\"llama2\", temperature=0, top_k=1, top_p=1)"
   ]
  },
  {
   "cell_type": "markdown",
   "metadata": {},
   "source": [
    "# 5. Etape 5. Création du prompt template"
   ]
  },
  {
   "cell_type": "markdown",
   "metadata": {},
   "source": [
    "Le prompt permet de guider le LLM dans sa manière d'interagir avec le contexte et de structurer sa réponse. Encore une fois, il nous faut priviléger un prompt à l'image de ce que nous attendons de la génération : de la concision et de la précision.\n",
    "Pour une documentation sur les bonnes pratiques en matière de formulation de prompt (hors RAG), voir https://medium.com/the-modern-scientist/best-prompt-techniques-for-best-llm-responses-24d2ff4f6bca et \n",
    "https://www.promptingguide.ai/introduction/examples#information-extraction\n",
    "\n",
    "Il a été montré qu'une invite simple et précise augmente la qualité de la réponse https://arxiv.org/pdf/2312.16171."
   ]
  },
  {
   "cell_type": "code",
   "execution_count": 6,
   "metadata": {},
   "outputs": [],
   "source": [
    "from langchain.prompts import PromptTemplate\n",
    "\n",
    "prompt_template = PromptTemplate.from_template(\n",
    "    \"\"\"\n",
    "    <s> [INST] Vous êtes un assistant chargé de l'analyse des documents d'urbanisme. \n",
    "    Votre tâche est d'extraire des chiffres à partir du contexte.\n",
    "    Donnez uniquement le chiffre, rien d'autre. \n",
    "    [/INST] </s> \n",
    "    [INST] Question: {question} \n",
    "    Context: {context} \n",
    "    Answer: [/INST]\n",
    "    \"\"\"\n",
    ")"
   ]
  },
  {
   "cell_type": "markdown",
   "metadata": {},
   "source": [
    "# 6. Etape 6. Chain"
   ]
  },
  {
   "cell_type": "markdown",
   "metadata": {},
   "source": [
    "Cette étape concerne la création de la chaîne de traitement : langchain permet grâce à une syntaxe spécifique d'assembler toutes les étapes du pipeline en une seule commande de traitement. Nous retrouvons les 2 points clés : récupérer la requête et le contexte pertinent à partir du vector store, puis générer une réponse par le LLM. La classe RunnablePassthrough permet de passer la question telle quelle dans la chaîne et StrOutputParser permet de parser la sortie du modèle en transformant la réponse générée en une chaîne de caractère."
   ]
  },
  {
   "cell_type": "code",
   "execution_count": 31,
   "metadata": {},
   "outputs": [],
   "source": [
    "from langchain.schema.runnable import RunnablePassthrough\n",
    "from langchain.schema.output_parser import StrOutputParser\n",
    "\n",
    "chain = ({\"context\": retriever, \"question\": RunnablePassthrough()}\n",
    "         | prompt_template\n",
    "         | model\n",
    "         | StrOutputParser()\n",
    "         )"
   ]
  },
  {
   "cell_type": "markdown",
   "metadata": {},
   "source": [
    "# 7. Etape 7. Query"
   ]
  },
  {
   "cell_type": "code",
   "execution_count": 32,
   "metadata": {},
   "outputs": [
    {
     "name": "stdout",
     "output_type": "stream",
     "text": [
      "\n",
      "12.5\n"
     ]
    }
   ],
   "source": [
    "question = \"Quelle est la hauteur maximum des constructions dans la zone U1 ?\"\n",
    "answer = chain.invoke(question)\n",
    "print(answer)"
   ]
  },
  {
   "cell_type": "markdown",
   "metadata": {},
   "source": [
    "# Classe complète et utilisation"
   ]
  },
  {
   "cell_type": "markdown",
   "metadata": {},
   "source": [
    "Ajout d'un print() pour le retriever permettant de visualiser le chunk choisi, et du module time pour chronométrer les temps de l'ingestion, du retrieval et de la réponse du LLM."
   ]
  },
  {
   "cell_type": "code",
   "execution_count": 1,
   "metadata": {},
   "outputs": [],
   "source": [
    "from langchain_community.document_loaders import PyMuPDFLoader\n",
    "from langchain.text_splitter import RecursiveCharacterTextSplitter\n",
    "from langchain.vectorstores.utils import filter_complex_metadata\n",
    "from langchain_community.embeddings import FastEmbedEmbeddings\n",
    "from langchain_community.vectorstores import FAISS\n",
    "from langchain_community.chat_models import ChatOllama\n",
    "from langchain.prompts import PromptTemplate\n",
    "from langchain.schema.runnable import RunnablePassthrough\n",
    "from langchain.schema.output_parser import StrOutputParser\n",
    "import time"
   ]
  },
  {
   "cell_type": "code",
   "execution_count": 2,
   "metadata": {},
   "outputs": [],
   "source": [
    "class RagPLU:\n",
    "    vector_store = None\n",
    "    retriever = None\n",
    "    chain = None\n",
    "\n",
    "    def __init__(self, model_name=\"mistral\", chunk_size=4084, chunk_overlap=0):\n",
    "        self.model = ChatOllama(model=model_name, temperature=0, top_k=1, top_p=1)\n",
    "        self.text_splitter = RecursiveCharacterTextSplitter(chunk_size=chunk_size, chunk_overlap=chunk_overlap)\n",
    "        self.prompt = PromptTemplate.from_template(\n",
    "            \"\"\"\n",
    "            <s> [INST] Vous êtes un assistant chargé de l'analyse des documents d'urbanisme. \n",
    "            Votre tâche est d'extraire des chiffres à partir du contexte.\n",
    "            Donnez uniquement le chiffre, pas de texte. \n",
    "            [/INST] </s> \n",
    "            [INST] Question: {question} \n",
    "            Context: {context} \n",
    "            Answer: [/INST]\n",
    "            \"\"\"\n",
    "        )\n",
    "\n",
    "    def ingest(self, pdf_path: str):\n",
    "        start_time = time.time()\n",
    "        docs = PyMuPDFLoader(file_path=pdf_path).load()\n",
    "        chunks = self.text_splitter.split_documents(docs)\n",
    "        chunks = filter_complex_metadata(chunks)\n",
    "\n",
    "        vector_store = FAISS.from_documents(documents=chunks, embedding=FastEmbedEmbeddings())\n",
    "        self.retriever = vector_store.as_retriever(\n",
    "            search_type=\"similarity_score_threshold\",\n",
    "            search_kwargs={\n",
    "                \"k\": 1,\n",
    "                \"score_threshold\": 0.6,\n",
    "            },\n",
    "        )\n",
    "\n",
    "        self.chain = ({\"context\": self.retriever, \"question\": RunnablePassthrough()}\n",
    "                      | self.prompt\n",
    "                      | self.model\n",
    "                      | StrOutputParser())\n",
    "        \n",
    "        ingestion_time = time.time() - start_time \n",
    "        print(f\"Ingestion completed in {ingestion_time:.2f} sec\")\n",
    "\n",
    "    def ask(self, query: str):\n",
    "        if not self.chain:\n",
    "            return \"Please, add a PDF document first.\"\n",
    "        \n",
    "        start_time = time.time()\n",
    "        retrieved_chunks = self.retriever.invoke(query)\n",
    "        print(retrieved_chunks)\n",
    "        retriever_time = time.time() - start_time \n",
    "        print(f\"Retrieval completed in {retriever_time:.2f} sec\")\n",
    "\n",
    "        start_time = time.time()\n",
    "        answer = self.chain.invoke(query)\n",
    "        query_time = time.time() - start_time\n",
    "        print(f\"Query answered in {query_time:.2f} sec\")\n",
    "\n",
    "        return answer\n",
    "\n",
    "    def clear(self):\n",
    "        self.vector_store = None\n",
    "        self.retriever = None\n",
    "        self.chain = None"
   ]
  },
  {
   "cell_type": "code",
   "execution_count": 7,
   "metadata": {},
   "outputs": [
    {
     "data": {
      "application/vnd.jupyter.widget-view+json": {
       "model_id": "35905e3ae539450097c5cf8da699dc70",
       "version_major": 2,
       "version_minor": 0
      },
      "text/plain": [
       "Fetching 5 files:   0%|          | 0/5 [00:00<?, ?it/s]"
      ]
     },
     "metadata": {},
     "output_type": "display_data"
    },
    {
     "name": "stdout",
     "output_type": "stream",
     "text": [
      "Ingestion completed in 2.28 min\n",
      "[Document(metadata={'source': 'plu_0.pdf', 'file_path': 'plu_0.pdf', 'page': 8, 'total_pages': 172, 'format': 'PDF 1.4', 'title': 'GIG_PLU_Modif1_APPRO_4a_Reglt_20210628', 'author': 'Eloïse DE CARVALHO', 'subject': '', 'keywords': '', 'creator': 'Word', 'producer': 'Mac OS X 10.12.6 Quartz PDFContext', 'creationDate': \"D:20210628092938Z00'00'\", 'modDate': \"D:20210628092938Z00'00'\", 'trapped': ''}, page_content='la construction ou de l’installation, cheminées, antennes et autres ouvrages techniques exclus. \\n2) Hauteur maximum au faîtage \\nToute construction ou installation ne peut excéder 12,50 mètres de «hauteur  maximum». \\nEn cas d’extension ou de rénovation de bâtiments existant ayant une hauteur supérieure au maximum \\nindiqué ci dessus, la hauteur pourra atteindre celle de la construction existante. \\n3) Hauteur relative \\nPar rapport à la voie, la hauteur de toute constructions doit être telle que la différence d’altitude entre \\ntout point du bâtiment et tout point de l’alignement opposé n’excède pas le double de la distance comptée \\nhorizontalement entre ces deux points, sans que cette hauteur ne puisse être supérieure à la hauteur \\nmaximale autorisée. Le schéma ci-dessous explicite cette règle : \\n \\n \\n \\n> Article 11 :  Aspect extérieur \\nLes constructions doivent présenter un aspect compatible avec le caractère ou l’intérêt des lieux avoisi-')]\n",
      "Retrieval completed in 0.00 min\n",
      "Query answered in 5.75 min\n",
      "\n",
      "12.5\n"
     ]
    }
   ],
   "source": [
    "#### Utilisation de la classe ####\n",
    "\n",
    "# 1. Instanciation de la classe\n",
    "pdf_query = RagPLU() # paramètres par défaut\n",
    "\n",
    "# 2. Ingestion du PDF\n",
    "pdf_query.ingest(\"plu_0.pdf\")\n",
    "\n",
    "# 3. Question\n",
    "answer = pdf_query.ask(\"Quelle est la hauteur maximum des constructions dans la zone U1 ?\")\n",
    "print(answer)\n",
    "\n",
    "# 4. Effacer les variables stockées\n",
    "pdf_query.clear()"
   ]
  },
  {
   "cell_type": "markdown",
   "metadata": {},
   "source": [
    "# Boucle de questions"
   ]
  },
  {
   "cell_type": "markdown",
   "metadata": {},
   "source": [
    "Il est à noter que le client fournira une liste de sous-sections, qui alimentera la liste de questions pour chaque indicateur (hauteur, emprise au sol)."
   ]
  },
  {
   "cell_type": "code",
   "execution_count": 3,
   "metadata": {},
   "outputs": [
    {
     "data": {
      "application/vnd.jupyter.widget-view+json": {
       "model_id": "ecfca10891d04a6bb0c2b31484cb7c34",
       "version_major": 2,
       "version_minor": 0
      },
      "text/plain": [
       "Fetching 5 files:   0%|          | 0/5 [00:00<?, ?it/s]"
      ]
     },
     "metadata": {},
     "output_type": "display_data"
    },
    {
     "name": "stdout",
     "output_type": "stream",
     "text": [
      "Ingestion completed in 129.37 sec\n",
      "[Document(metadata={'source': 'plu_1.pdf', 'file_path': 'plu_1.pdf', 'page': 22, 'total_pages': 172, 'format': 'PDF 1.4', 'title': 'GIG_PLU_Modif1_APPRO_4a_Reglt_20210628', 'author': 'Eloïse DE CARVALHO', 'subject': '', 'keywords': '', 'creator': 'Word', 'producer': 'Mac OS X 10.12.6 Quartz PDFContext', 'creationDate': \"D:20210628092938Z00'00'\", 'modDate': \"D:20210628092938Z00'00'\", 'trapped': ''}, page_content='Dispositions applicables aux zones Urbaines \\nVille de Gigean (34) // Plan Local d’Urbanisme // RÈGLEMENT \\n1ère Modification // Document approuvé le : 29 juin 2021 // page 23 \\nREGL. \\nN \\nA \\nAU \\nU \\nZONE U2 \\n \\n> Article 10 :  Hauteur maximum des constructions \\n1) Définition et mesure de la hauteur maximum des constructions \\nLa « hauteur maximum » est mesurée verticalement à partir du sol naturel avant travaux en tout point de \\nla construction ou de l’installation, cheminées, antennes et autres ouvrages techniques exclus. \\n2) Hauteur maximum au faîtage \\nDans l’ensemble de la zone U2 : \\nToute construction ou installation ne peut excéder 11 mètres de «hauteur  maximum». \\nEn cas d’extension de bâtiments ayant une hauteur supérieure au maximum indiqué ci dessus, la hauteur \\npourra atteindre celle de la construction existante. \\n \\nDans le secteur U2h : \\nToute construction ou installation ne peut excéder 16 mètres de «hauteur  maximum». \\nEn cas d’extension de bâtiments ayant une hauteur supérieure au maximum indiqué ci dessus, la hauteur \\npourra atteindre celle de la construction existante. \\n \\n3) Hauteurs relatives \\nPar rapport à la voie, la hauteur de toute constructions doit être telle que la différence d’altitude entre \\ntout point du bâtiment et tout point de l’alignement opposé n’excède pas le double de la distance comptée \\nhorizontalement entre ces deux points, sans que cette hauteur ne puisse être supérieure à la hauteur \\nmaximale autorisée. Le schéma ci-dessous explicite cette règle : \\n \\n \\n \\nEn limites séparatives, la hauteur maximale des constructions est fixée à 4 mètres sur une largeur de 3 \\nmètres par rapport à la limite. Au-delà des 3 mètres, les règles de prospect (définies à l’article 7) et la hau-\\nteur maximale autorisée s’appliquent. \\n \\nLes schémas ci-dessous illustrent l’application possible des règles d’implantation et de hauteurs relatives :')]\n",
      "Retrieval completed in 1.29 sec\n",
      "Query answered in 527.24 sec\n",
      "[Document(metadata={'source': 'plu_1.pdf', 'file_path': 'plu_1.pdf', 'page': 134, 'total_pages': 172, 'format': 'PDF 1.4', 'title': 'GIG_PLU_Modif1_APPRO_4a_Reglt_20210628', 'author': 'Eloïse DE CARVALHO', 'subject': '', 'keywords': '', 'creator': 'Word', 'producer': 'Mac OS X 10.12.6 Quartz PDFContext', 'creationDate': \"D:20210628092938Z00'00'\", 'modDate': \"D:20210628092938Z00'00'\", 'trapped': ''}, page_content='Dispositions applicables aux zones à Urbaniser \\nVille de Gigean (34) // Plan Local d’Urbanisme // RÈGLEMENT \\n1ère Modification // Document approuvé le : 29 juin 2021 // page 135 \\nREGL. \\nN \\nA \\nAU \\nU \\nZONE 1AUeq \\n> Article 10 :  Hauteur maximum des constructions \\n1) Définition et mesure de la hauteur maximum des constructions \\nLa « hauteur maximum » est mesurée verticalement à partir du sol naturel avant travaux en tout point de \\nla construction ou de l’installation, cheminées, antennes et autres ouvrages techniques exclus. \\n2) hauteur maximum au faîtage \\nToute construction ou installation ne peut excéder 12,50 mètres de «hauteur  maximum». \\nEn cas d’extension de bâtiments ayant une hauteur supérieure au maximum indiqué ci dessus, la hauteur \\npourra atteindre celle de la construction existante. \\n \\n> Article 11 :  Aspect extérieur \\nLes constructions doivent présenter un aspect compatible avec le caractère ou l’intérêt des lieux avoisi-\\nnants, des sites et des paysages urbains et avec la conservation des perspectives monumentales et natu-\\nrelles. \\nLes constructions doivent être d’une écriture architecturale contemporaine et sobre, en évitant tout pas-\\ntiche et renvois régionalistes grossiers.  \\nAfin de garantir un ensemble cohérent au village, les constructions doivent respecter les règles suivantes : \\n1) Façades \\nLes percements doivent être ordonnancés autant que possible sur les façades, alignés les uns aux autres \\nd’un étage à l’autre. Ils doivent rester de formes simples. \\nLe linteaux arrondis ou cintrés et les hublots sont interdits. \\n \\n2) Enduits / Parements \\nLes murs séparatifs, les murs aveugles apparents, les murs pignon, les murs de clôture, les bâtiments an-\\nnexes doivent avoir un aspect qui s’harmonise avec celui des façades principales sans distinction qualita-\\ntive dans leur traitement.  \\nLes détournements de matériaux de leur fonction initiale, les imitations et pastiches sont interdits. No-\\ntamment, la création de modénatures faussement anciennes (de type préfabriqué par exemple) est inter-\\ndite (telles que balustres, arches, fenêtre en plein-cintre, etc.) \\nTous les matériaux destinés à être recouverts (agglomérés de béton, béton cellulaire, brique \\ncreuse, etc.) doivent l’être obligatoirement. \\nLes murs en pierres naturelles, appareillés ou en parements de type pierres sèches ou agraphées sont \\nautorisés. \\nPour les constructions neuves, l’emploi du béton apparent est autorisé, à condition que sa nature, sa plas-\\ntique et sa composition (couleur) soient étudiées spécifiquement à cet usage (pour être visible). Plus par-\\nticulièrement, les bétons blancs (touts aspects) sont autorisés, ainsi que les bétons gris, à condition qu’ils \\nsoient d’aspects planchés ou matricés.  \\nLorsque des façades doivent recevoir un enduit, la finition est d’aspect taloché ou gratté fin en respec-\\ntant la gamme des teintes prescrite dans le nuancier suivant. Les finitions d’aspect gratté, écrasé, gresé \\n(poli), ribé (frotté), projeté, sont interdites. L’emploi de baguettes d’angle apparentes est interdit. \\nLes teintes employées devront être similaires au nuancier ci dessous. \\n \\nNuancier de référence pour les enduits et maçonneries. \\n \\nPour les opérations d’ensemble, des teintes vives sont tolérées lorsque cela relève d’une démarche archi-\\ntecturale argumentée.')]\n",
      "Retrieval completed in 2.70 sec\n",
      "Query answered in 619.65 sec\n"
     ]
    }
   ],
   "source": [
    "import re\n",
    "import pandas as pd\n",
    "\n",
    "# 1. Instanciation de la classe\n",
    "pdf_query = RagPLU(model_name=\"llama2\", chunk_size=4096, chunk_overlap=0)\n",
    "\n",
    "# 2. Ingestion du PDF\n",
    "pdf_query.ingest(\"plu_1.pdf\")\n",
    "\n",
    "# 3. Liste de questions\n",
    "questions = [\n",
    "    #\"Quelle est la hauteur maximum des constructions dans la zone U1 ?\",\n",
    "    \"Quelle est la hauteur maximum des constructions dans la zone U2 ?\",\n",
    "    \"Quelle est la hauteur maximum des constructions dans la zone 1AUeq ?\",\n",
    "    #\"Quelle est la hauteur maximum des constructions dans la zone 1AUE ?\",\n",
    "    #\"Quelle est l'emprise au sol dans la zone U1 ?\",\n",
    "    #\"Quelle est l'emprise au sol dans la zone U2 ?\",\n",
    "    #\"Quelle est l'emprise au sol dans la zone 1AUeq ?\",\n",
    "    #\"Quelle est l'emprise au sol dans la zone 1AUE ?\"\n",
    "]\n",
    "\n",
    "# 4. Liste pour stocker les réponses numériques\n",
    "answers = []\n",
    "\n",
    "# 5. Boucle pour poser chaque question\n",
    "for question in questions:\n",
    "    full_answer = pdf_query.ask(question)\n",
    "\n",
    "    # Extraire le nombre trouvé dans la réponse\n",
    "    number = re.findall(r\"\\d+\\.?\\d*\", full_answer)\n",
    "    if number:\n",
    "        answers.append(number[0])\n",
    "    else:\n",
    "        answers.append(\"Non trouvé\")"
   ]
  },
  {
   "cell_type": "code",
   "execution_count": 4,
   "metadata": {},
   "outputs": [
    {
     "data": {
      "text/plain": [
       "['11', '12.5']"
      ]
     },
     "execution_count": 4,
     "metadata": {},
     "output_type": "execute_result"
    }
   ],
   "source": [
    "answers"
   ]
  },
  {
   "cell_type": "markdown",
   "metadata": {},
   "source": [
    "# Insersion en base de données"
   ]
  },
  {
   "cell_type": "markdown",
   "metadata": {},
   "source": [
    "Il est nécessaire de créer une instance de connexion à la base de données PostgreSQL. Ceci se réalise grâce à la librairie psycopg2.\n",
    "\n",
    "Les réponses seront insérées directement dans la table à partir de la variable answers. Les valeurs d'idterritoire, codcom, annee sont celles de la collectivité. Celles de la zone et de la sections sont récupérées dans la liste fournie par le client."
   ]
  },
  {
   "cell_type": "code",
   "execution_count": null,
   "metadata": {},
   "outputs": [],
   "source": [
    "import psycopg2\n",
    "from RagPLU import answers # récupération des données de la variable answers dans le fichier rag\n",
    "\n",
    "class PLUReglementInserter:\n",
    "    def __init__(self, dbname, user, password, host, port):\n",
    "        self.conn = psycopg2.connect(\n",
    "            dbname=dbname,\n",
    "            user=user,\n",
    "            password=password,\n",
    "            host=host,\n",
    "            port=port\n",
    "        )\n",
    "        self.cursor = self.conn.cursor()\n",
    "\n",
    "    def insert_data(self, idterritoire, codcom, annee, zone, section, answers):\n",
    "        for answer in answers:\n",
    "            self.cursor.execute('''\n",
    "                INSERT INTO plu_reglement (idterritoire, codcom, annee, zone, section, hauteur, emprise)\n",
    "                VALUES (%s, %s, %s, %s, %s, %s, %s)\n",
    "            ''', (idterritoire, codcom, annee, zone, section, answer['hauteur'], answer['emprise']))\n",
    "    \n",
    "    def commit_and_close(self):\n",
    "        self.conn.commit()\n",
    "        self.cursor.close()\n",
    "        self.conn.close()"
   ]
  },
  {
   "cell_type": "code",
   "execution_count": null,
   "metadata": {},
   "outputs": [],
   "source": [
    "#### Utilisation de la classe ####\n",
    "if __name__ == \"__main__\":\n",
    "\n",
    "    # Données de connexion\n",
    "    dbname = \"xxx\"\n",
    "    user = \"xxx\"\n",
    "    password = \"xxx\"\n",
    "    host = \"localhost\"\n",
    "    port = \"5432\"\n",
    "\n",
    "    # Création d'une instance de la classe\n",
    "    inserter = PLUReglementInserter(dbname, user, password, host, port)\n",
    "    \n",
    "    # Exemples de valeurs à insérer (récupérées dans les données clients en même temps que l'import du fichier)\n",
    "    idterritoire, codcom, annee, zone, section = (2024125006, 125006, 2024, \"U\", \"U1\")\n",
    "    \n",
    "    # answers est récupérée dans le fichier rag\n",
    "    \n",
    "    # Insertion des données\n",
    "    inserter.insert_data(idterritoire, codcom, annee, zone, section, answers)\n",
    "    \n",
    "    # Sauvegarder et fermer la connexion\n",
    "    inserter.commit_and_close()"
   ]
  }
 ],
 "metadata": {
  "kernelspec": {
   "display_name": "venv_plu",
   "language": "python",
   "name": "venv_plu"
  },
  "language_info": {
   "codemirror_mode": {
    "name": "ipython",
    "version": 3
   },
   "file_extension": ".py",
   "mimetype": "text/x-python",
   "name": "python",
   "nbconvert_exporter": "python",
   "pygments_lexer": "ipython3",
   "version": "3.11.5"
  }
 },
 "nbformat": 4,
 "nbformat_minor": 2
}
